{
 "cells": [
  {
   "cell_type": "code",
   "execution_count": 2,
   "id": "bf4efeab",
   "metadata": {},
   "outputs": [],
   "source": [
    "import requests"
   ]
  },
  {
   "cell_type": "code",
   "execution_count": 3,
   "id": "ad5db896",
   "metadata": {},
   "outputs": [],
   "source": [
    "from urllib.request import urlopen"
   ]
  },
  {
   "cell_type": "code",
   "execution_count": 4,
   "id": "c5c8b80e",
   "metadata": {},
   "outputs": [],
   "source": [
    "import ssl\n",
    "ssl.create_default_context = ssl._create_unverified_context"
   ]
  },
  {
   "cell_type": "code",
   "execution_count": 5,
   "id": "e36e8986",
   "metadata": {},
   "outputs": [],
   "source": [
    "data_url='https://www.snapdeal.com/search?keyword=cell%20phone&santizedKeyword=&catId=&categoryId=0&suggested=true&vertical=&noOfResults=20&searchState=&clickSrc=suggested&lastKeyword=&prodCatId=&changeBackToAll=false&foundInAll=false&categoryIdSearched=&cityPageUrl=&categoryUrl=&url=&utmContent=&dealDetail=&sort=rlvncy'"
   ]
  },
  {
   "cell_type": "code",
   "execution_count": 9,
   "id": "b87ebd47",
   "metadata": {},
   "outputs": [],
   "source": [
    "url = 'https://www.snapdeal.com/search?keyword=cell%20phone&santizedKeyword=&catId=&categoryId=0&suggested=true&vertical=&noOfResults=20&searchState=&clickSrc=suggested&lastKeyword=&prodCatId=&changeBackToAll=false&foundInAll=false&categoryIdSearched=&cityPageUrl=&categoryUrl=&url=&utmContent=&dealDetail=&sort=rlvncy'\n",
    "\n",
    "response = requests.get(url)\n",
    "if response.status_code == 200:\n",
    "    data_html = response.text\n"
   ]
  },
  {
   "cell_type": "code",
   "execution_count": 8,
   "id": "5269514a",
   "metadata": {},
   "outputs": [],
   "source": [
    "data_html = data.read()"
   ]
  },
  {
   "cell_type": "code",
   "execution_count": 10,
   "id": "e9f52d1b",
   "metadata": {},
   "outputs": [],
   "source": [
    "data.close()"
   ]
  },
  {
   "cell_type": "code",
   "execution_count": 11,
   "id": "e84e7393",
   "metadata": {},
   "outputs": [],
   "source": [
    "from bs4 import BeautifulSoup"
   ]
  },
  {
   "cell_type": "code",
   "execution_count": 12,
   "id": "0242f4dd",
   "metadata": {},
   "outputs": [],
   "source": [
    "data_soup = BeautifulSoup(data_html, 'html.parser')"
   ]
  },
  {
   "cell_type": "code",
   "execution_count": 14,
   "id": "77a602d9",
   "metadata": {},
   "outputs": [],
   "source": [
    "data_soup.h1"
   ]
  },
  {
   "cell_type": "code",
   "execution_count": 15,
   "id": "4459efe5",
   "metadata": {},
   "outputs": [
    {
     "data": {
      "text/plain": [
       "<img class=\"lazy-load\" data-src=\"https://i4.sdlcdn.com/img/platinum09/downloadappicon2ndsep.png\"/>"
      ]
     },
     "execution_count": 15,
     "metadata": {},
     "output_type": "execute_result"
    }
   ],
   "source": [
    "data_soup.img\n"
   ]
  },
  {
   "cell_type": "code",
   "execution_count": 16,
   "id": "45736a34",
   "metadata": {},
   "outputs": [],
   "source": [
    "images = data_soup.find_all('img',{})"
   ]
  },
  {
   "cell_type": "code",
   "execution_count": 17,
   "id": "168ad022",
   "metadata": {},
   "outputs": [
    {
     "data": {
      "text/plain": [
       "37"
      ]
     },
     "execution_count": 17,
     "metadata": {},
     "output_type": "execute_result"
    }
   ],
   "source": [
    "len(images)"
   ]
  },
  {
   "cell_type": "code",
   "execution_count": 18,
   "id": "44bdaf6d",
   "metadata": {},
   "outputs": [],
   "source": [
    "file_name = 'image'"
   ]
  },
  {
   "cell_type": "code",
   "execution_count": 19,
   "id": "e8b5fd5a",
   "metadata": {},
   "outputs": [],
   "source": [
    "image_row=[]"
   ]
  },
  {
   "cell_type": "code",
   "execution_count": 21,
   "id": "ffdf063a",
   "metadata": {},
   "outputs": [],
   "source": [
    "from urllib.parse import parse_qsl, urljoin, urlparse\n"
   ]
  },
  {
   "cell_type": "code",
   "execution_count": 22,
   "id": "1efec903",
   "metadata": {},
   "outputs": [],
   "source": [
    "file_name=\"img\""
   ]
  },
  {
   "cell_type": "code",
   "execution_count": 24,
   "id": "3f0f1e6c",
   "metadata": {},
   "outputs": [
    {
     "name": "stdout",
     "output_type": "stream",
     "text": [
      "Downloaded: downloadappicon2ndsep.png\n",
      "Downloaded: sdLatestLogo.svg\n",
      "Downloaded: sdDarwinLoader.svg\n",
      "Downloaded: Karbonn-KX110I-Dual-SIM-Feature-SDL819378176-1-e2f61.jpg\n",
      "Downloaded: Karbonn-K531-Dual-SIM-Feature-SDL939750297-1-e9874.jpg\n",
      "Downloaded: Karbonn-K531-Dual-SIM-Feature-SDL939118366-1-ca3bf.jpg\n",
      "Downloaded: Karbonn-K531-Dual-SIM-Feature-SDL947245747-1-442d6.jpg\n",
      "Downloaded: Karbonn-KX110I-Dual-SIM-Feature-SDL820370661-1-25f7b.jpg\n",
      "Downloaded: Karbonn-K531-Dual-SIM-Feature-SDL974090244-1-d875a.jpg\n",
      "Downloaded: Karbonn-KX110I-Dual-SIM-Feature-SDL819772634-1-69dac.jpg\n",
      "Downloaded: Karbonn-Y1-Dual-SIM-Feature-SDL940331157-1-31116.jpg\n",
      "Downloaded: Karbonn-K9-YODHA-Dual-SIM-SDL526923266-1-868d6.png\n",
      "Downloaded: Karbonn-K9-YODHA-Dual-SIM-SDL319223094-1-9ef7b.png\n",
      "Downloaded: Karbonn-Y1-Dual-SIM-Feature-SDL946358388-1-021be.jpg\n",
      "Downloaded: Karbonn-KX29-Dual-SIM-Feature-SDL869408937-1-daa83.jpg\n",
      "Downloaded: Karbonn-KU1i-Dual-SIM-Feature-SDL404257962-1-82315.jpg\n",
      "Downloaded: Karbonn-KU1i-Dual-SIM-Feature-SDL405141138-1-cfa03.jpg\n",
      "Downloaded: Nokia-150-Dual-SIM-Feature-SDL094146527-1-e3723.jpg\n",
      "Downloaded: Karbonn-Y1-Dual-SIM-Feature-SDL255541751-1-f3c0b.jpg\n",
      "Downloaded: Nokia-8210-4G-Dual-SIM-SDL490785492-1-ea46d.png\n",
      "Downloaded: Karbonn-KX6-Dual-SIM-Feature-SDL837765831-1-82e15.jpg\n",
      "Downloaded: Karbonn-Y1-Dual-SIM-Feature-SDL271802869-1-121e5.jpg\n",
      "Downloaded: itel-SG-200-Dual-SIM-SDL302695666-1-eac9b.png\n",
      "Downloaded: facebook@4x.png\n",
      "Downloaded: twitter@4x.png\n",
      "Downloaded: instagram@4x.png\n",
      "Downloaded: linkedin@4x.png\n",
      "Downloaded: youtube@4x.png\n",
      "Downloaded: Telegram-Logo_112x112.png\n",
      "Downloaded: whatsapp-logo-112x112.png\n",
      "Done\n"
     ]
    }
   ],
   "source": [
    "for image_tag in images:\n",
    "    if \"data-src\" in image_tag.attrs:\n",
    "        img_url = image_tag[\"data-src\"]\n",
    "    elif \"src\" in image_tag.attrs:\n",
    "        img_url = image_tag[\"src\"]\n",
    "    else:\n",
    "        continue\n",
    "    \n",
    "    if not img_url:\n",
    "        continue\n",
    "    \n",
    "    img_response = requests.get(img_url)\n",
    "    if img_response.status_code == 200:\n",
    "        img_filename = img_url.split(\"/\")[-1]\n",
    "        with open(img_filename, \"wb\") as img_file:\n",
    "            img_file.write(img_response.content)\n",
    "        print(f\"Downloaded: {img_filename}\")\n",
    "    else:\n",
    "        print(f\"Failed to download: {img_url}\")\n",
    "\n",
    "print(\"Done\")\n",
    "        "
   ]
  },
  {
   "cell_type": "markdown",
   "id": "d4ef5108",
   "metadata": {},
   "source": [
    "# "
   ]
  },
  {
   "cell_type": "code",
   "execution_count": null,
   "id": "30f0aa71",
   "metadata": {},
   "outputs": [],
   "source": []
  }
 ],
 "metadata": {
  "kernelspec": {
   "display_name": "Python 3 (ipykernel)",
   "language": "python",
   "name": "python3"
  },
  "language_info": {
   "codemirror_mode": {
    "name": "ipython",
    "version": 3
   },
   "file_extension": ".py",
   "mimetype": "text/x-python",
   "name": "python",
   "nbconvert_exporter": "python",
   "pygments_lexer": "ipython3",
   "version": "3.10.11"
  }
 },
 "nbformat": 4,
 "nbformat_minor": 5
}
